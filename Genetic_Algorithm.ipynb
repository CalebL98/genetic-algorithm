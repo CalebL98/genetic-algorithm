{
 "cells": [
  {
   "cell_type": "markdown",
   "metadata": {},
   "source": [
    "Author: Caleb Lyon\n",
    "\n",
    "Purpose: Implement genetic algorithm in Scala to find solution to $x_1 + x_2 + x_3 + x_4 = y$\n",
    "    for a given $y$ and analyze runtimes for different $y$ values."
   ]
  },
  {
   "cell_type": "code",
   "execution_count": 1,
   "metadata": {},
   "outputs": [],
   "source": [
    "import random\n",
    "import math\n",
    "import time\n",
    "from matplotlib import pyplot as plt"
   ]
  },
  {
   "cell_type": "code",
   "execution_count": 2,
   "metadata": {},
   "outputs": [],
   "source": [
    "# Some helpful functions\n",
    "\n",
    "# Takes a list of 4 bits and converts to a decimal integer\n",
    "def lst_to_dec(lst):\n",
    "    if len(lst) != 4:\n",
    "        return -1 # If the input list is not the right length return -1 to indicate error\n",
    "    else:\n",
    "        sum = 0\n",
    "        for i in range(4):\n",
    "            sum += lst[i] * 2**(3-i)  # Converting to decimal by adding the appropriate power of two multiplied by the bit\n",
    "        return sum\n",
    "\n",
    "\n",
    "# Computes the fitness score of a solution (List of 16 bits) for a given y (decimal integer)\n",
    "def fit(y, sol):\n",
    "    xs = [sol[0:4], sol[4:8], sol[8:12], sol[12:16]]\n",
    "    sum = 0\n",
    "    for x in xs: \n",
    "        sum += lst_to_dec(x)\n",
    "    return abs(y - sum)  # The difference between the target value and the sum of the four binary values gives the solutions fitness\n",
    "\n",
    "\n",
    "# Takes a list of 16 bits and probability of mutating and returns such an list having applied mutation\n",
    "# Does not modify original list\n",
    "def mutate(lst, p):\n",
    "    new_list = []\n",
    "    for bit in lst:  # Traverse entire solution and for each:\n",
    "        if random.uniform(0,1) < p:  # Flip bit with probability p\n",
    "            if bit == 0:\n",
    "                new_list.append(1)\n",
    "            else:\n",
    "                new_list.append(0)\n",
    "        else:\n",
    "            new_list.append(bit)  # Always appending to new list so original isn't modified\n",
    "    return new_list\n",
    "\n",
    "\n",
    "# Takes two lists of 16 bits and returns resulting lists having applied crossover\n",
    "# Does not modify original list\n",
    "def crossover(l1, l2):\n",
    "    i = random.randint(0, 15)  # Generates a random index at which to swap parent solutions\n",
    "    new1 = l1[:i] + l2[i:]  # One new solution is the first segment of the first parent and second segment of second parent \n",
    "    new2 = l2[:i] + l1[i:]  # Second new solution is the first segment of second parent and second segment of first parent\n",
    "    return new1, new2\n"
   ]
  },
  {
   "cell_type": "markdown",
   "metadata": {},
   "source": [
    "We use the above functions to define a function genetic_algorithm, which actually runs the algorithm. \n",
    "\n",
    "Inputs:\n",
    "    - y: Target integer between 0 and 60\n",
    "    - init_sols: A first generation of solutions\n",
    "    - mutate_prob: The probability with which we mutate when applying mutation function\n",
    "Output:\n",
    "    - Final generation of solutions"
   ]
  },
  {
   "cell_type": "code",
   "execution_count": 3,
   "metadata": {},
   "outputs": [],
   "source": [
    "def genetic_algorithm(y, init_sols, mutate_prob):\n",
    "    sols = init_sols\n",
    "    found_sol = False\n",
    "    while found_sol != True:\n",
    "        # sols_with_fit is a list of tuples, where the first elem of the tuple is a solution \n",
    "        # and the second elem is its fitness score\n",
    "        sols_with_fit = []\n",
    "        for elem in sols:\n",
    "            sols_with_fit.append((elem, (fit(y, elem))))\n",
    "            \n",
    "        sols_with_fit.sort(key = lambda x: x[1]) # Sorts solutions in order of increasing fitness scores (low fitness = better)\n",
    "\n",
    "        # top_ten is a list of the top ten solutions without their fitness scores\n",
    "        top_ten = [t[0] for t in sols_with_fit][0:10]\n",
    " \n",
    "        # Generating new solutions by applying mutation to 6 best of top_ten and crossover to other 4\n",
    "        # Since mutation typically makes less significant changes this is why mutation is applied to the better scores\n",
    "        sols = top_ten\n",
    "        for sol in top_ten[0:6]:\n",
    "            sols.append(mutate(sol, mutate_prob))\n",
    "        n1, n2 = crossover(top_ten[6], top_ten[7])\n",
    "        n3, n4 = crossover(top_ten[8], top_ten[9])\n",
    "        sols = sols + [n1, n2, n3, n4]\n",
    "    \n",
    "        # Check to see if we have found a solution\n",
    "        for sol in sols[10:19]: #top_ten were already checked for solutions in the previous iteration => only look at second half\n",
    "            if fit(y, sol) == 0:\n",
    "                found_sol = True\n",
    "                sols.remove(sol)  # Moves solution to front of list for convenience\n",
    "                sols.insert(0, sol)  # We still return all solutions, although some are not true solutions, but at least one is\n",
    "            \n",
    "    return sols"
   ]
  },
  {
   "cell_type": "code",
   "execution_count": 4,
   "metadata": {},
   "outputs": [
    {
     "name": "stdout",
     "output_type": "stream",
     "text": [
      "Running this genetic algorithm on y=5 with mutation probability 0.1 gives the solutions: \n",
      "1: [0, 1, 0, 0], [0, 0, 0, 0], [0, 0, 0, 0], [0, 0, 0, 1] (4 + 0 + 0 + 1 = 5)\n",
      "2: [0, 0, 1, 0], [0, 0, 0, 0], [0, 0, 0, 0], [0, 0, 0, 1] (2 + 0 + 0 + 1 = 3)\n",
      "3: [0, 0, 0, 1], [0, 0, 0, 0], [0, 0, 0, 1], [0, 1, 1, 1] (1 + 0 + 1 + 7 = 9)\n",
      "4: [1, 0, 1, 1], [0, 0, 0, 0], [0, 0, 0, 0], [0, 0, 0, 1] (11 + 0 + 0 + 1 = 12)\n",
      "5: [0, 0, 1, 0], [1, 0, 0, 0], [0, 0, 0, 0], [0, 0, 1, 1] (2 + 8 + 0 + 3 = 13)\n",
      "6: [0, 0, 0, 1], [0, 1, 0, 0], [0, 0, 0, 1], [0, 1, 1, 1] (1 + 4 + 1 + 7 = 13)\n",
      "7: [1, 0, 1, 0], [0, 0, 0, 0], [0, 0, 0, 0], [0, 0, 1, 1] (10 + 0 + 0 + 3 = 13)\n",
      "8: [1, 0, 1, 0], [0, 0, 0, 0], [0, 1, 0, 0], [0, 0, 0, 1] (10 + 0 + 4 + 1 = 15)\n",
      "9: [1, 0, 1, 1], [0, 0, 0, 0], [0, 1, 0, 0], [0, 0, 0, 1] (11 + 0 + 4 + 1 = 16)\n",
      "10: [1, 0, 1, 0], [0, 0, 0, 1], [0, 0, 0, 1], [0, 1, 1, 0] (10 + 1 + 1 + 6 = 18)\n",
      "11: [1, 0, 1, 1], [0, 0, 0, 1], [0, 0, 0, 0], [0, 1, 1, 0] (11 + 1 + 0 + 6 = 18)\n",
      "12: [0, 0, 1, 1], [0, 0, 0, 0], [0, 0, 1, 1], [0, 1, 0, 1] (3 + 0 + 3 + 5 = 11)\n",
      "13: [1, 0, 1, 1], [0, 0, 0, 0], [0, 0, 0, 0], [0, 0, 1, 1] (11 + 0 + 0 + 3 = 14)\n",
      "14: [1, 0, 1, 0], [1, 0, 0, 0], [0, 0, 0, 1], [0, 0, 1, 1] (10 + 8 + 1 + 3 = 22)\n",
      "15: [0, 0, 0, 1], [0, 0, 0, 0], [0, 1, 0, 1], [0, 1, 1, 0] (1 + 0 + 5 + 6 = 12)\n",
      "16: [1, 0, 1, 1], [0, 0, 0, 0], [0, 0, 0, 1], [0, 1, 1, 1] (11 + 0 + 1 + 7 = 19)\n",
      "17: [1, 0, 1, 0], [0, 0, 0, 0], [0, 1, 0, 0], [0, 0, 0, 1] (10 + 0 + 4 + 1 = 15)\n",
      "18: [1, 0, 1, 1], [0, 0, 0, 0], [0, 1, 0, 0], [0, 0, 0, 1] (11 + 0 + 4 + 1 = 16)\n",
      "19: [1, 0, 1, 0], [0, 0, 0, 1], [0, 0, 0, 0], [0, 1, 1, 0] (10 + 1 + 0 + 6 = 17)\n",
      "20: [1, 0, 1, 1], [0, 0, 0, 1], [0, 0, 0, 1], [0, 1, 1, 0] (11 + 1 + 1 + 6 = 19)\n"
     ]
    }
   ],
   "source": [
    "# Testing genetic_algorithm function\n",
    "\n",
    "# Generating intial population of 20 random sols\n",
    "init_sols = [[random.randint(0,1) for i in range(16)] for j in range(20)]\n",
    "\n",
    "print(\"Running this genetic algorithm on y=5 with mutation probability 0.1 gives the solutions: \")\n",
    "count = 0\n",
    "for elem in genetic_algorithm(5, init_sols, 0.1): # Each element is a potential solution, the first is definitely a solution\n",
    "    x1, x2, x3, x4 = lst_to_dec(elem[:4]), lst_to_dec(elem[4:8]), lst_to_dec(elem[8:12]), lst_to_dec(elem[12:16])\n",
    "    count += 1\n",
    "    print(str(count) + \": \" + str(elem[:4]) + \", \" + str(elem[4:8]) + \", \" + str(elem[8:12]) + \", \" + str(elem[12:])\n",
    "         + \" (\" + str(x1) + \" + \" + str(x2) + \" + \" + str(x3) + \" + \" + str(x4) + \" = \" + str(x1 + x2 + x3 + x4) + \")\")"
   ]
  },
  {
   "cell_type": "code",
   "execution_count": 5,
   "metadata": {},
   "outputs": [
    {
     "data": {
      "text/plain": [
       "Text(0, 0.5, 'Average Runtime')"
      ]
     },
     "execution_count": 5,
     "metadata": {},
     "output_type": "execute_result"
    },
    {
     "data": {
      "image/png": "[encoded data removed]",
      "text/plain": [
       "<Figure size 432x288 with 1 Axes>"
      ]
     },
     "metadata": {
      "needs_background": "light"
     },
     "output_type": "display_data"
    }
   ],
   "source": [
    "# Timing Analysis\n",
    "ts = []\n",
    "for y in range(61):\n",
    "    sum = 0\n",
    "    for i in range(20): # For more accurate analysis algorithm is run several (20 right now) times and resulting time is averaged\n",
    "        start_time = time.time()\n",
    "        init_sols = [[random.randint(0,1) for i in range(16)] for j in range(20)]  # Generates 20 random solutions\n",
    "        genetic_algorithm(y, init_sols, 0.1)  # Apply genetic algorithm function to find solution\n",
    "        elapsed_time = time.time() - start_time\n",
    "        sum += elapsed_time\n",
    "    avg_time = sum / 5\n",
    "    ts.append(avg_time)\n",
    "    \n",
    "\n",
    "#Plotted Results\n",
    "fig = plt.figure()\n",
    "ax = fig.add_axes([0,0,1,1])\n",
    "ax.plot(range(61), ts)\n",
    "ax.set_title(\"Genetic Algorithm Timing Results\")\n",
    "ax.set_xlabel(\"Target y Value\")\n",
    "ax.set_ylabel(\"Average Runtime\")\n"
   ]
  },
  {
   "cell_type": "markdown",
   "metadata": {},
   "source": [
    "Note that the average runtime is greater for target $y$ values near the bottom or top of our range, as there are less possible\n",
    "solutions, so these typically take longer to reach."
   ]
  },
  {
   "cell_type": "code",
   "execution_count": 6,
   "metadata": {},
   "outputs": [
    {
     "name": "stdout",
     "output_type": "stream",
     "text": [
      "y Average Time\n",
      "0 , 0.07008838653564453\n",
      "1 , 0.04203066825866699\n",
      "2 , 0.03437619209289551\n",
      "3 , 0.03437838554382324\n",
      "4 , 0.025000476837158205\n",
      "5 , 0.023763370513916016\n",
      "6 , 0.01875166893005371\n",
      "7 , 0.028537654876708986\n",
      "8 , 0.019086933135986327\n",
      "9 , 0.018751192092895507\n",
      "10 , 0.015625715255737305\n",
      "11 , 0.012500667572021484\n",
      "12 , 0.012501335144042969\n",
      "13 , 0.012500381469726563\n",
      "14 , 0.01562657356262207\n",
      "15 , 0.012500762939453125\n",
      "16 , 0.00937509536743164\n",
      "17 , 0.01682443618774414\n",
      "18 , 0.0120025634765625\n",
      "19 , 0.022710704803466798\n",
      "20 , 0.009636497497558594\n",
      "21 , 0.009375762939453126\n",
      "22 , 0.009375858306884765\n",
      "23 , 0.009375047683715821\n",
      "24 , 0.009375715255737304\n",
      "25 , 0.012041568756103516\n",
      "26 , 0.0064548015594482425\n",
      "27 , 0.012500953674316407\n",
      "28 , 0.009374856948852539\n",
      "29 , 0.011409854888916016\n",
      "30 , 0.00937480926513672\n",
      "31 , 0.009375810623168945\n",
      "32 , 0.009376144409179688\n",
      "33 , 0.009375667572021485\n",
      "34 , 0.012500429153442382\n",
      "35 , 0.009375333786010742\n",
      "36 , 0.009376096725463866\n",
      "37 , 0.009375286102294923\n",
      "38 , 0.012501811981201172\n",
      "39 , 0.006249284744262696\n",
      "40 , 0.01364140510559082\n",
      "41 , 0.016445159912109375\n",
      "42 , 0.020006084442138673\n",
      "43 , 0.016428470611572266\n",
      "44 , 0.01520380973815918\n",
      "45 , 0.01680779457092285\n",
      "46 , 0.019204139709472656\n",
      "47 , 0.020802927017211915\n",
      "48 , 0.014075708389282227\n",
      "49 , 0.015626144409179688\n",
      "50 , 0.01875166893005371\n",
      "51 , 0.021748733520507813\n",
      "52 , 0.02880725860595703\n",
      "53 , 0.017842435836791994\n",
      "54 , 0.029084205627441406\n",
      "55 , 0.02751479148864746\n",
      "56 , 0.021875905990600585\n",
      "57 , 0.028126859664916994\n",
      "58 , 0.040836668014526366\n",
      "59 , 0.05841541290283203\n",
      "60 , 0.07743029594421387\n"
     ]
    }
   ],
   "source": [
    "#Printed Results\n",
    "print(\"y\",\"Average Time\")\n",
    "for i in range(61):\n",
    "    print(i, \",\", ts[i])"
   ]
  }
 ],
 "metadata": {
  "kernelspec": {
   "display_name": "Python 3",
   "language": "python",
   "name": "python3"
  },
  "language_info": {
   "codemirror_mode": {
    "name": "ipython",
    "version": 3
   },
   "file_extension": ".py",
   "mimetype": "text/x-python",
   "name": "python",
   "nbconvert_exporter": "python",
   "pygments_lexer": "ipython3",
   "version": "3.7.4"
  }
 },
 "nbformat": 4,
 "nbformat_minor": 2
}
